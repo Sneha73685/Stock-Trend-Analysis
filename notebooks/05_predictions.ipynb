{
 "cells": [
  {
   "cell_type": "code",
   "execution_count": null,
   "metadata": {
    "vscode": {
     "languageId": "plaintext"
    }
   },
   "outputs": [],
   "source": [
    "# Load trained model\n",
    "model = load(\"../models/random_forest_model.joblib\")\n",
    "\n",
    "# Predict stock price\n",
    "predicted_price = model.predict(latest_features)\n",
    "print(f\"📈 Predicted Next Close Price: ${predicted_price[0]:.2f}\")\n",
    "\n",
    "# Visualization\n",
    "plt.figure(figsize=(8, 4))\n",
    "plt.plot(df.index, df[\"Close\"], label=\"Actual Price\", color=\"blue\")\n",
    "plt.axhline(y=predicted_price, color=\"red\", linestyle=\"dashed\", label=\"Predicted Next Price\")\n",
    "plt.legend()\n",
    "plt.title(\"Stock Price Prediction with Sentiment Analysis\")\n",
    "plt.show()\n"
   ]
  },
  {
   "cell_type": "code",
   "execution_count": null,
   "metadata": {
    "vscode": {
     "languageId": "plaintext"
    }
   },
   "outputs": [],
   "source": [
    "# Select features\n",
    "features = df[[\"Open\", \"High\", \"Low\", \"Volume\", \"SMA_50\", \"SMA_200\", \"sentiment_score\"]]\n",
    "target = df[\"Close\"]\n",
    "\n",
    "# Select the most recent data point for prediction\n",
    "latest_features = features.iloc[-1].values.reshape(1, -1)\n"
   ]
  },
  {
   "cell_type": "code",
   "execution_count": null,
   "metadata": {
    "vscode": {
     "languageId": "plaintext"
    }
   },
   "outputs": [],
   "source": [
    "import pandas as pd\n",
    "import numpy as np\n",
    "import matplotlib.pyplot as plt\n",
    "from sklearn.ensemble import RandomForestRegressor\n",
    "from joblib import load\n",
    "\n",
    "# Load stock market data\n",
    "stock_data = pd.read_csv(\"../data/processed/AAPL_processed.csv\", index_col=\"Date\", parse_dates=True)\n",
    "\n",
    "# Load sentiment data\n",
    "sentiment_data = pd.read_csv(\"../data/processed/sentiment_data.csv\", index_col=\"date\", parse_dates=True)\n",
    "\n",
    "# Merge datasets on date\n",
    "df = stock_data.join(sentiment_data, how=\"left\").fillna(0)  # Fill missing sentiment scores with 0\n",
    "\n",
    "# Display merged dataset\n",
    "df.head()\n"
   ]
  }
 ],
 "metadata": {
  "language_info": {
   "name": "python"
  }
 },
 "nbformat": 4,
 "nbformat_minor": 2
}
