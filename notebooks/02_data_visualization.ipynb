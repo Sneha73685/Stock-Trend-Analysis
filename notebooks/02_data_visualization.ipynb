{
 "cells": [
  {
   "cell_type": "code",
   "execution_count": null,
   "metadata": {
    "vscode": {
     "languageId": "plaintext"
    }
   },
   "outputs": [],
   "source": [
    "import pandas as pd\n",
    "import matplotlib.pyplot as plt\n",
    "\n",
    "# Load processed data\n",
    "data_path = \"../data/processed/AAPL_processed.csv\"\n",
    "df = pd.read_csv(data_path, index_col=\"Date\", parse_dates=True)\n",
    "\n",
    "# Plot stock closing price\n",
    "plt.figure(figsize=(12, 6))\n",
    "plt.plot(df.index, df[\"Close\"], label=\"Closing Price\", color=\"blue\")\n",
    "plt.plot(df.index, df[\"SMA_50\"], label=\"50-day SMA\", color=\"red\")\n",
    "plt.plot(df.index, df[\"SMA_200\"], label=\"200-day SMA\", color=\"green\")\n",
    "plt.legend()\n",
    "plt.title(\"Stock Price Trend with Moving Averages\")\n",
    "plt.show()\n"
   ]
  }
 ],
 "metadata": {
  "language_info": {
   "name": "python"
  }
 },
 "nbformat": 4,
 "nbformat_minor": 2
}
