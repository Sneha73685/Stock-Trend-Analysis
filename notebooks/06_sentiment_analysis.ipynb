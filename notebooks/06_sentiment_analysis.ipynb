{
 "cells": [
  {
   "cell_type": "code",
   "execution_count": null,
   "metadata": {
    "vscode": {
     "languageId": "plaintext"
    }
   },
   "outputs": [],
   "source": [
    "import seaborn as sns\n",
    "\n",
    "# Compute correlation matrix\n",
    "correlation_matrix = df[[\"Close\", \"sentiment_score\"]].corr()\n",
    "\n",
    "# Plot heatmap\n",
    "plt.figure(figsize=(6, 4))\n",
    "sns.heatmap(correlation_matrix, annot=True, cmap=\"coolwarm\", fmt=\".2f\")\n",
    "plt.title(\"Correlation Between Stock Price & Sentiment Score\")\n",
    "plt.show()\n"
   ]
  },
  {
   "cell_type": "code",
   "execution_count": null,
   "metadata": {
    "vscode": {
     "languageId": "plaintext"
    }
   },
   "outputs": [],
   "source": [
    "# Load stock data\n",
    "stock_data = pd.read_csv(\"../data/processed/AAPL_processed.csv\", parse_dates=[\"Date\"], index_col=\"Date\")\n",
    "\n",
    "# Merge with sentiment data\n",
    "df = stock_data.join(sentiment_data, how=\"left\").fillna(0)  # Fill missing sentiment scores with 0\n",
    "\n",
    "# Display merged dataset\n",
    "df.head()\n"
   ]
  },
  {
   "cell_type": "code",
   "execution_count": null,
   "metadata": {
    "vscode": {
     "languageId": "plaintext"
    }
   },
   "outputs": [],
   "source": [
    "import matplotlib.pyplot as plt\n",
    "\n",
    "# Convert date to index\n",
    "sentiment_data.set_index(\"date\", inplace=True)\n",
    "\n",
    "# Plot sentiment scores\n",
    "plt.figure(figsize=(12, 6))\n",
    "plt.plot(sentiment_data.index, sentiment_data[\"sentiment_score\"], color=\"purple\", marker=\"o\", linestyle=\"-\")\n",
    "plt.axhline(y=0, color=\"black\", linestyle=\"--\")\n",
    "plt.xlabel(\"Date\")\n",
    "plt.ylabel(\"Sentiment Score\")\n",
    "plt.title(\"Financial News Sentiment Trend\")\n",
    "plt.grid()\n",
    "plt.show()\n"
   ]
  },
  {
   "cell_type": "code",
   "execution_count": null,
   "metadata": {
    "vscode": {
     "languageId": "plaintext"
    }
   },
   "outputs": [],
   "source": [
    "import pandas as pd\n",
    "\n",
    "# Load sentiment data\n",
    "sentiment_data = pd.read_csv(\"../data/raw/sentiment_data.csv\", parse_dates=[\"date\"])\n",
    "\n",
    "# Display dataset\n",
    "sentiment_data.head()\n"
   ]
  }
 ],
 "metadata": {
  "language_info": {
   "name": "python"
  }
 },
 "nbformat": 4,
 "nbformat_minor": 2
}
