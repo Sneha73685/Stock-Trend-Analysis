{
 "cells": [
  {
   "cell_type": "code",
   "execution_count": null,
   "metadata": {
    "vscode": {
     "languageId": "plaintext"
    }
   },
   "outputs": [],
   "source": [
    "import pandas as pd\n",
    "import numpy as np\n",
    "import matplotlib.pyplot as plt\n",
    "from joblib import load\n",
    "\n",
    "# Load trained model\n",
    "model = load(\"../models/random_forest_model.joblib\")\n",
    "\n",
    "# Load latest stock data\n",
    "data_path = \"../data/processed/AAPL_processed.csv\"\n",
    "df = pd.read_csv(data_path, index_col=\"Date\", parse_dates=True)\n",
    "df.dropna(inplace=True)\n",
    "\n",
    "# Select last known features\n",
    "latest_features = df[[\"Open\", \"High\", \"Low\", \"Volume\", \"SMA_50\", \"SMA_200\"]].iloc[-1].values.reshape(1, -1)\n",
    "\n",
    "# Predict future close price\n",
    "predicted_price = model.predict(latest_features)\n",
    "print(f\"Predicted Next Close Price: {predicted_price[0]:.2f}\")\n",
    "\n",
    "# Visualization\n",
    "plt.figure(figsize=(8, 4))\n",
    "plt.plot(df.index, df[\"Close\"], label=\"Actual Price\", color=\"blue\")\n",
    "plt.axhline(y=predicted_price, color=\"red\", linestyle=\"dashed\", label=\"Predicted Next Price\")\n",
    "plt.legend()\n",
    "plt.title(\"Stock Price Prediction\")\n",
    "plt.show()\n"
   ]
  }
 ],
 "metadata": {
  "language_info": {
   "name": "python"
  }
 },
 "nbformat": 4,
 "nbformat_minor": 2
}
