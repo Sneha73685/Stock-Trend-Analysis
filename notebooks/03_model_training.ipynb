{
 "cells": [
  {
   "cell_type": "code",
   "execution_count": null,
   "metadata": {
    "vscode": {
     "languageId": "plaintext"
    }
   },
   "outputs": [],
   "source": [
    "import pandas as pd\n",
    "from sklearn.ensemble import RandomForestRegressor\n",
    "from sklearn.model_selection import train_test_split\n",
    "from sklearn.metrics import mean_absolute_error\n",
    "\n",
    "# Load processed data\n",
    "data_path = \"../data/processed/AAPL_processed.csv\"\n",
    "df = pd.read_csv(data_path, index_col=\"Date\", parse_dates=True)\n",
    "\n",
    "# Features & Target\n",
    "df.dropna(inplace=True)  # Remove NaNs\n",
    "features = df[[\"Open\", \"High\", \"Low\", \"Volume\", \"SMA_50\", \"SMA_200\"]]\n",
    "target = df[\"Close\"]\n",
    "\n",
    "# Train-test split\n",
    "X_train, X_test, y_train, y_test = train_test_split(features, target, test_size=0.2, random_state=42)\n",
    "\n",
    "# Train model\n",
    "model = RandomForestRegressor(n_estimators=100, random_state=42)\n",
    "model.fit(X_train, y_train)\n",
    "\n",
    "# Evaluate model\n",
    "predictions = model.predict(X_test)\n",
    "mae = mean_absolute_error(y_test, predictions)\n",
    "print(f\"Model MAE: {mae:.2f}\")\n"
   ]
  }
 ],
 "metadata": {
  "language_info": {
   "name": "python"
  }
 },
 "nbformat": 4,
 "nbformat_minor": 2
}
